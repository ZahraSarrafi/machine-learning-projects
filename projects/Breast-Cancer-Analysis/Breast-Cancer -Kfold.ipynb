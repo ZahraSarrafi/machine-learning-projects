{
 "cells": [
  {
   "cell_type": "markdown",
   "id": "dd808440",
   "metadata": {},
   "source": [
    "# Breast Cancer"
   ]
  },
  {
   "cell_type": "markdown",
   "id": "bb103234",
   "metadata": {},
   "source": [
    "## Introduction\n"
   ]
  },
  {
   "cell_type": "code",
   "execution_count": null,
   "id": "a1b0c499",
   "metadata": {},
   "outputs": [],
   "source": [
    "import pandas as pd\n",
    "import numpy as np\n",
    "import seaborn as sns\n",
    "import matplotlib.pyplot as plt\n",
    "import tensorflow as tf\n",
    "from sklearn.preprocessing import StandardScaler\n",
    "from sklearn.model_selection import train_test_split\n",
    "from sklearn.model_selection import KFold, StratifiedShuffleSplit\n",
    "import tensorflow as tf"
   ]
  },
  {
   "cell_type": "code",
   "execution_count": null,
   "id": "14edbf4a",
   "metadata": {},
   "outputs": [],
   "source": [
    "df = pd.read_csv(\"Cancer_Data.csv\")\n",
    "df.head()"
   ]
  },
  {
   "cell_type": "code",
   "execution_count": null,
   "id": "94600cc4",
   "metadata": {},
   "outputs": [],
   "source": [
    "df.shape"
   ]
  },
  {
   "cell_type": "code",
   "execution_count": null,
   "id": "d0ff087e",
   "metadata": {},
   "outputs": [],
   "source": [
    "df.info()"
   ]
  },
  {
   "cell_type": "markdown",
   "id": "cafe1527",
   "metadata": {},
   "source": [
    "**Conclusion:**\n",
    "* Sample code number is not relevant to us.\n",
    "* All columns are numerical data."
   ]
  },
  {
   "cell_type": "markdown",
   "id": "2a43532f",
   "metadata": {},
   "source": [
    "### Missing Data"
   ]
  },
  {
   "cell_type": "code",
   "execution_count": null,
   "id": "222a6690",
   "metadata": {},
   "outputs": [],
   "source": [
    "df.isnull().sum()"
   ]
  },
  {
   "cell_type": "markdown",
   "id": "2dbfd399",
   "metadata": {},
   "source": [
    "**Conclusion:** No missing data."
   ]
  },
  {
   "cell_type": "markdown",
   "id": "ef517050",
   "metadata": {},
   "source": [
    "### Duplicated data"
   ]
  },
  {
   "cell_type": "code",
   "execution_count": null,
   "id": "6b632b4a",
   "metadata": {},
   "outputs": [],
   "source": [
    "df.duplicated().sum()"
   ]
  },
  {
   "cell_type": "markdown",
   "id": "f4e12d48",
   "metadata": {},
   "source": [
    "**Conclusion:** There are 8 rows with duplicated data."
   ]
  },
  {
   "cell_type": "code",
   "execution_count": null,
   "id": "d5740e68",
   "metadata": {},
   "outputs": [],
   "source": [
    "df[df.duplicated()]"
   ]
  },
  {
   "cell_type": "code",
   "execution_count": null,
   "id": "9ed6ede1",
   "metadata": {},
   "outputs": [],
   "source": [
    "df = df[df.duplicated() == False]\n",
    "df.duplicated().sum()"
   ]
  },
  {
   "cell_type": "code",
   "execution_count": null,
   "id": "04ea264c",
   "metadata": {},
   "outputs": [],
   "source": [
    "df.shape"
   ]
  },
  {
   "cell_type": "markdown",
   "id": "223398a0",
   "metadata": {},
   "source": [
    "**Conclusion:** The duplicated rows are now removed."
   ]
  },
  {
   "cell_type": "markdown",
   "id": "452bb1fa",
   "metadata": {},
   "source": [
    "# EDA"
   ]
  },
  {
   "cell_type": "code",
   "execution_count": null,
   "id": "0406b8ff",
   "metadata": {},
   "outputs": [],
   "source": [
    "df_clean = df.drop(['Sample code number'], axis=1)\n",
    "df_clean.head()"
   ]
  },
  {
   "cell_type": "code",
   "execution_count": null,
   "id": "57cc6f88",
   "metadata": {},
   "outputs": [],
   "source": [
    "df_clean[\"Class\"] = df_clean[\"Class\"].map({ 2: 0, 4: 1 })"
   ]
  },
  {
   "cell_type": "code",
   "execution_count": null,
   "id": "4926161c",
   "metadata": {},
   "outputs": [],
   "source": [
    "def hide_current_axis(*args, **kwds):\n",
    "    plt.gca().set_visible(False)\n",
    "\n",
    "e = sns.pairplot(df_clean)\n",
    "e.map_upper(hide_current_axis)"
   ]
  },
  {
   "cell_type": "markdown",
   "id": "ef2dd9a9",
   "metadata": {},
   "source": [
    "**Conclusion:** pair plot is not useful on this dataset."
   ]
  },
  {
   "cell_type": "markdown",
   "id": "1339a66d",
   "metadata": {},
   "source": [
    "### Counting The Malignant Tumor Cases"
   ]
  },
  {
   "cell_type": "code",
   "execution_count": null,
   "id": "2c519a9f",
   "metadata": {},
   "outputs": [],
   "source": [
    "plt.title(f\"Average {df_clean['Class'].mean()*100:.2f}%\")\n",
    "sns.countplot(data=df_clean, x=\"Class\")"
   ]
  },
  {
   "cell_type": "code",
   "execution_count": null,
   "id": "0613eb1f",
   "metadata": {},
   "outputs": [],
   "source": [
    "corr_matrix = df_clean.corr()\n",
    "corr_matrix"
   ]
  },
  {
   "cell_type": "code",
   "execution_count": null,
   "id": "f2301cbe",
   "metadata": {},
   "outputs": [],
   "source": [
    "# Generate a mask for the upper triangle\n",
    "mask = np.triu(np.ones_like(corr_matrix, dtype=np.bool))\n",
    "\n",
    "# Set up the matplotlib figure\n",
    "fig, ax = plt.subplots(figsize=(15, 8))\n",
    "\n",
    "# Generate a custom diverging colormap\n",
    "cmap = sns.diverging_palette(220, 10, as_cmap=True)\n",
    "\n",
    "# Draw the heatmap with the mask and correct aspect ratio\n",
    "sns.heatmap(corr_matrix, mask=mask, cmap=cmap,  vmin=0, vmax=1, center=.5, square=True, linewidths=.5, cbar_kws={\"shrink\": .5}, annot = True)"
   ]
  },
  {
   "cell_type": "markdown",
   "id": "c1a199d4",
   "metadata": {},
   "source": [
    "**Conclusion:**\n",
    "\n",
    "| Value 1        | Value 2       | Value | Observation   |\n",
    "| -------------- | ------------- | ----- | ------------- |\n",
    "|Class          | Clump Thickness              |  +0.72  | moderate correlation |\n",
    "|Class          | Uniformity of Cell Size      |  +0.82  | strong correlation |\n",
    "|Class          | Uniformity of Cell Shape     |  +0.82  | strong correlation |\n",
    "|Class          | Marginal Adhesion            |  +0.71  | moderate correlation |\n",
    "|Class          | Single Epithelial Cell Size  |  +0.69  | moderate correlation |\n",
    "|Class          | Bare Nuclei                  |  +0.82  | strong correlation |\n",
    "|Class          | Bland Chromatin              |  +0.76  | moderate correlation |\n",
    "|Class          | Normal Nucleoli              |  +0.72  | moderate correlation |\n",
    "|Class          | Mitoses                      |  +0.42  | inverse correlation |\n",
    "|Uniformity of Cell Size          | Uniformity of Cell Shape                      |  +0.91  | The Strongest correlation |"
   ]
  },
  {
   "cell_type": "markdown",
   "id": "45f0c55b",
   "metadata": {},
   "source": [
    "## Preprocess "
   ]
  },
  {
   "cell_type": "code",
   "execution_count": null,
   "id": "81d88d20",
   "metadata": {},
   "outputs": [],
   "source": [
    "X = df_clean.iloc[:, :-1].values\n",
    "print(\"X (inputs)\")\n",
    "print(X)\n",
    "\n",
    "# will contains the values of the column 'class:Tumor type'\n",
    "y = df_clean.iloc[:, -1].values\n",
    "y = (y == 1)\n",
    "\n",
    "print(\"y (outputs)\")\n",
    "print(y)\n",
    "\n",
    "X_train, X_test, y_train, y_test = train_test_split(\n",
    "    X, y, test_size=0.2, stratify=y, random_state=0)\n",
    "\n",
    "sc = StandardScaler()\n",
    "X_train = sc.fit_transform(X_train)\n",
    "X_test = sc.transform(X_test)\n",
    "print(\"X_train.shape:\", X_train.shape)\n",
    "print(\"X_train:\", X_train)\n",
    "print(\"X_test.shape:\", X_test.shape)\n",
    "print(\"X_test:\", X_test)"
   ]
  },
  {
   "cell_type": "code",
   "execution_count": null,
   "id": "55a3bfdb",
   "metadata": {},
   "outputs": [],
   "source": [
    "print(\"training new model\")\n",
    "\n",
    "original_acc_per_fold: list[float] = []\n",
    "acc_per_fold: list[float] = []\n",
    "loss_per_fold: list[float] = []\n",
    "\n",
    "num_folds = 10\n",
    "\n",
    "# kfold = KFold(n_splits=num_folds, shuffle=True, random_state=0)\n",
    "kfold = StratifiedShuffleSplit(n_splits=num_folds, random_state=0)\n",
    "\n",
    "# K-fold Cross Validation model evaluation\n",
    "fold_no = 1\n",
    "for train_indices, test_indices in kfold.split(X, y):\n",
    "\n",
    "    X_train = X[train_indices, :]\n",
    "    y_train = y[train_indices]\n",
    "    X_test = X[test_indices, :]\n",
    "    y_test = y[test_indices]\n",
    "\n",
    "\n",
    "\n",
    "    ann = tf.keras.models.Sequential()\n",
    "    ann.add(tf.keras.layers.Dense(units=6,  activation='relu'))\n",
    "    ann.add(tf.keras.layers.Dropout(rate=0.3))\n",
    "    ann.add(tf.keras.layers.Dense(units=6,  activation='relu'))\n",
    "    ann.add(tf.keras.layers.Dropout(rate=0.3))\n",
    "    ann.add(tf.keras.layers.Dense(units=1,  activation='sigmoid'))\n",
    "\n",
    "\n",
    "    ann.compile(optimizer='adam', loss='binary_crossentropy',\n",
    "                metrics=['accuracy'])\n",
    "\n",
    "    early_stopping = tf.keras.callbacks.EarlyStopping(\n",
    "        monitor='val_accuracy',\n",
    "\n",
    "        # how long with no progress do we insist?\n",
    "        patience=300,\n",
    "\n",
    "        restore_best_weights=True,\n",
    "        verbose=1\n",
    "    )\n",
    "\n",
    "    ann.fit(\n",
    "        X_train, y_train,\n",
    "        epochs=300,\n",
    "        batch_size=32,\n",
    "        validation_data=(X_test, y_test),\n",
    "        callbacks=[early_stopping],\n",
    "        verbose=0\n",
    "    )\n",
    "\n",
    "\n",
    "    scores = ann.evaluate(X_test, y_test, verbose=0)\n",
    "\n",
    "    loss_metric = scores[0]\n",
    "    accuracy_metric = scores[1] * 100\n",
    "\n",
    "    print(f'Score for fold {fold_no}: loss={loss_metric:.3f}, accuracy={accuracy_metric:.3f}%')\n",
    "\n",
    "    acc_per_fold.append(accuracy_metric)\n",
    "    loss_per_fold.append(loss_metric)\n",
    "\n",
    "    fold_no += 1\n",
    "\n",
    "print(f\"Accuracy (higher is better):          {np.mean(acc_per_fold):.3f}%\")\n",
    "print(f\"Standard Deviation (lower is better): {np.std(acc_per_fold):.3f}%\")\n",
    "print(f\"Loss (lower is better):               {np.mean(loss_per_fold):.3f}\")     "
   ]
  },
  {
   "cell_type": "code",
   "execution_count": null,
   "id": "862cfaa2",
   "metadata": {},
   "outputs": [],
   "source": [
    "# Does 'X' person has breast cancer?\n",
    "\n",
    "def predict_one_person_data(\n",
    "        Clump, uniformity_Cell_Size, uniformity_Cell_Shape, Marginal_Adhesion, Single_Epithelial_Cell_Size, Bare_Nuclei, Bland_Chromatin, Normal_Nucleoli, Mitoses):\n",
    "\n",
    "    print(\"=\" * 30)\n",
    "\n",
    "    input_data = sc.transform([[Clump, uniformity_Cell_Size, uniformity_Cell_Shape, Marginal_Adhesion,\n",
    "                              Single_Epithelial_Cell_Size, Bare_Nuclei, Bland_Chromatin, Normal_Nucleoli, Mitoses]])\n",
    "\n",
    "    result = ann.predict(input_data)\n",
    "\n",
    "    if result > 0.5:\n",
    "        message = \"this person has cancer\"\n",
    "    else:\n",
    "        message = \"this person hasn't cancer\"\n",
    "\n",
    "    print(result, message)\n",
    "\n",
    "predict_one_person_data(4, 1, 1, 3, 2, 1, 3, 1, 1)\n",
    "predict_one_person_data(8, 10, 10, 8, 7, 10, 9, 7, 1)"
   ]
  }
 ],
 "metadata": {
  "kernelspec": {
   "display_name": "Python 3",
   "language": "python",
   "name": "python3"
  },
  "language_info": {
   "codemirror_mode": {
    "name": "ipython",
    "version": 3
   },
   "file_extension": ".py",
   "mimetype": "text/x-python",
   "name": "python",
   "nbconvert_exporter": "python",
   "pygments_lexer": "ipython3",
   "version": "3.12.7"
  }
 },
 "nbformat": 4,
 "nbformat_minor": 5
}
